{
  "nbformat": 4,
  "nbformat_minor": 0,
  "metadata": {
    "colab": {
      "provenance": [],
      "toc_visible": true
    },
    "kernelspec": {
      "name": "python3",
      "display_name": "Python 3"
    },
    "language_info": {
      "name": "python"
    }
  },
  "cells": [
    {
      "cell_type": "markdown",
      "source": [
        "# Импорт библиотек"
      ],
      "metadata": {
        "id": "zyDoTA9fj3_A"
      }
    },
    {
      "cell_type": "code",
      "execution_count": null,
      "metadata": {
        "id": "BurO5IP7IVuq"
      },
      "outputs": [],
      "source": [
        "import pandas as pd\n",
        "import numpy as np\n",
        "import matplotlib.pyplot as plt\n",
        "import seaborn as sns\n",
        "\n",
        "import sklearn\n",
        "from sklearn.model_selection import KFold\n",
        "from sklearn.metrics import f1_score, precision_recall_fscore_support\n",
        "\n",
        "from sklearn.svm import SVC\n",
        "from tqdm import tqdm\n",
        "import torch\n",
        "\n",
        "from IPython.display import clear_output\n",
        "\n",
        "try:\n",
        "    import MKLpy\n",
        "except ModuleNotFoundError:\n",
        "    !pip install MKLpy\n",
        "    clear_output()\n",
        "    import MKLpy\n",
        "\n",
        "from MKLpy.utils.validation import get_scorer\n",
        "from MKLpy.model_selection import cross_val_score\n",
        "from MKLpy.preprocessing import kernel_normalization, binarization\n",
        "from MKLpy.metrics import pairwise\n",
        "from MKLpy.algorithms import EasyMKL\n",
        "from MKLpy.model_selection import train_test_split\n",
        "\n",
        "clear_output()"
      ]
    },
    {
      "cell_type": "code",
      "source": [
        "try:\n",
        "    import optuna\n",
        "except ModuleNotFoundError:\n",
        "    !pip install --quiet optuna\n",
        "    clear_output()\n",
        "    import optuna\n"
      ],
      "metadata": {
        "id": "loNI8uE5giW5"
      },
      "execution_count": null,
      "outputs": []
    },
    {
      "cell_type": "markdown",
      "source": [
        "# Загрузка и предобработка данных"
      ],
      "metadata": {
        "id": "oMdXrqtXkC70"
      }
    },
    {
      "cell_type": "code",
      "source": [
        "from google.colab import drive\n",
        "drive.mount('/content/drive')\n",
        "# data = pd.read_excel(\"/content/drive/MyDrive/NeuralNetSch/PeakToPeak_P300_all_diff.xlsx\")\n",
        "data = pd.read_excel(\"Data/PeakToPeak_P300_all_diff.xlsx\")\n",
        "x = data.drop(['Name', \"Diagnosis\"], axis=1)\n",
        "y = data[\"Diagnosis\"]"
      ],
      "metadata": {
        "colab": {
          "base_uri": "https://localhost:8080/"
        },
        "id": "-v9COifaJICI",
        "outputId": "515d6be1-1928-4356-cb0d-4d11b545bdd9"
      },
      "execution_count": null,
      "outputs": [
        {
          "output_type": "stream",
          "name": "stdout",
          "text": [
            "Mounted at /content/drive\n"
          ]
        }
      ]
    },
    {
      "cell_type": "code",
      "source": [
        "x_np = np.array(x)\n",
        "y_np = np.array(y)"
      ],
      "metadata": {
        "id": "w_O4Ao-_JIGP"
      },
      "execution_count": null,
      "outputs": []
    },
    {
      "cell_type": "code",
      "source": [
        "binarizer = binarization.AverageBinarizer()\n",
        "Xbin = binarizer.fit_transform(x_np, y_np)"
      ],
      "metadata": {
        "id": "rGfkLk8aPh30"
      },
      "execution_count": null,
      "outputs": []
    },
    {
      "cell_type": "code",
      "source": [
        "KL = [kernel_normalization(pairwise.monotone_conjunctive_kernel(Xbin, c=c)) for c in range(5)]"
      ],
      "metadata": {
        "id": "vJcDSAW4Ph8R"
      },
      "execution_count": null,
      "outputs": []
    },
    {
      "cell_type": "markdown",
      "source": [
        "# Функции для оценки"
      ],
      "metadata": {
        "id": "Pw7D_KxFltAk"
      }
    },
    {
      "cell_type": "code",
      "source": [
        "def mkl_custom_cross_val_score(KL, Y, estimator, cv=None, n_folds=4, n_states = 100, scoring = f1_score, random_state=None, shuffle=True):\n",
        "    '''performs the cross validation'''\n",
        "\n",
        "    fold_scores = []\n",
        "    test_scores = []\n",
        "    scoring = scoring\n",
        "\n",
        "    for i in tqdm(range(n_states)):\n",
        "        cv_estim = []\n",
        "        test_estim = []\n",
        "        KLtr,KLte,Ytr,Yte = train_test_split(KL, Y, test_size=.3, random_state=i)\n",
        "\n",
        "        cv  = cv or KFold(n_folds, random_state=42, shuffle=shuffle)\n",
        "        results = []\n",
        "        for train, test in cv.split(Ytr,Ytr):\n",
        "            KL_cv_tr = [K[train][:,train] for K in KLtr]\n",
        "            KL_cv_te = [K[test ][:,train] for K in KLtr]\n",
        "            clf = estimator.fit(KL_cv_tr, Ytr[train])\n",
        "            y_cv_pred = clf.predict(KL_cv_te)\n",
        "            cv_estim.append(scoring(Ytr[test], y_cv_pred))\n",
        "\n",
        "            KL_te = [K[:][:,train] for K in KLte]\n",
        "            y_test_pred = clf.predict(KL_te)\n",
        "            test_estim.append(scoring(Yte, y_test_pred))\n",
        "\n",
        "\n",
        "        fold_scores.append(cv_estim)\n",
        "        test_scores.append(test_estim)\n",
        "\n",
        "        folds_mean = np.mean(np.array(fold_scores), axis = 0)\n",
        "        tests_mean = np.mean(np.array(test_scores), axis = 0)\n",
        "\n",
        "        folds_std = np.std(np.array(fold_scores), axis = 0)\n",
        "        tests_std = np.std(np.array(test_scores), axis = 0)\n",
        "\n",
        "        df_for_viz = pd.concat(axis=1, ignore_index=False, objs=[\n",
        "            pd.DataFrame.from_dict({'estimator': 2*[f'estimator{i}' for i in range(1, n_folds+1)]}),\n",
        "            pd.DataFrame.from_dict({'condition': n_folds*['fold'] + n_folds*['test']}),\n",
        "            pd.DataFrame.from_dict({'f1_score': list(folds_mean) + list(tests_mean)}),\n",
        "            pd.DataFrame.from_dict({'std': list(folds_std) + list(tests_std)})])\n",
        "\n",
        "\n",
        "    return folds_mean, tests_mean, folds_std, tests_std, df_for_viz\n"
      ],
      "metadata": {
        "id": "zX7QJqJYWIsY"
      },
      "execution_count": null,
      "outputs": []
    },
    {
      "cell_type": "code",
      "source": [
        "def viz_cv (df, title = None):\n",
        "  '''visualzie the cross validation'''\n",
        "  plt.figure(figsize=(16, 6))\n",
        "  sns.barplot(x ='estimator', y = 'f1_score', data = df, hue='condition', palette = \"pastel\")\n",
        "  plt.errorbar(x=[-0.2, 0.8, 1.8, 2.8],y=df[df['condition'] == 'fold']['f1_score'],\n",
        "              yerr=df[df['condition'] == 'fold']['std'], fmt='none', c= 'b')\n",
        "  plt.errorbar(x=[0.2, 1.2, 2.2, 3.2],y=df[df['condition'] == 'test']['f1_score'],\n",
        "              yerr=df[df['condition'] == 'test']['std'], fmt='none', c= 'r')\n",
        "  if title != None:\n",
        "    plt.title(f'{title} f1_score')"
      ],
      "metadata": {
        "id": "cAetemPunN5E"
      },
      "execution_count": null,
      "outputs": []
    },
    {
      "cell_type": "code",
      "source": [
        "def mkl_test_on_diff_seeds (clf, KL, Y, n_states = 100):\n",
        "    '''testing on different splits'''\n",
        "    f1_scores = []\n",
        "    recall_scores = []\n",
        "    precision_scores = []\n",
        "    support_scores = []\n",
        "    for i in tqdm(range(n_states)):\n",
        "        KLtr,KLte,Ytr,Yte = train_test_split(KL, Y, test_size=.3, random_state=i)\n",
        "        clf.fit(KLtr, Ytr)\n",
        "        y_pred = clf.predict(KLte)\n",
        "        prec, rec, f, sup = precision_recall_fscore_support (y_pred, Yte)\n",
        "        f1_scores.append(f)\n",
        "        recall_scores.append(rec)\n",
        "        precision_scores.append(prec)\n",
        "        support_scores.append(sup)\n",
        "    return classification_report_on_diff_seeds(f1_scores, recall_scores, precision_scores, support_scores)\n",
        "\n",
        "def classification_report_on_diff_seeds (f1_scores, recall_scores, precision_scores, support_scores):\n",
        "      df = pd.concat(axis=1, ignore_index=False, objs=[\n",
        "          pd.DataFrame.from_dict({'classes': [0, 1, 'average']}),\n",
        "          pd.DataFrame.from_dict({'precision_mean': np.append(np.mean(precision_scores, axis = 0), np.mean(precision_scores))}),\n",
        "          # pd.DataFrame.from_dict({'precision_std': np.std(precision_scores, axis = 0)}),\n",
        "          pd.DataFrame.from_dict({'recall_mean': np.append(np.mean(recall_scores, axis = 0), np.mean(recall_scores))}),\n",
        "          # pd.DataFrame.from_dict({'recall_std': np.std(recall_scores, axis = 0)}),\n",
        "          pd.DataFrame.from_dict({'f1_mean': np.append(np.mean(f1_scores, axis = 0), np.mean(f1_scores))}),\n",
        "          # pd.DataFrame.from_dict({'f1_std': np.std(f1_scores, axis = 0)})\n",
        "          ])\n",
        "\n",
        "\n",
        "      return df"
      ],
      "metadata": {
        "id": "1Z9IA9N1g3FA"
      },
      "execution_count": null,
      "outputs": []
    },
    {
      "cell_type": "markdown",
      "source": [
        "# Подбор гиперпараметров"
      ],
      "metadata": {
        "id": "1_cGd9AknsO9"
      }
    },
    {
      "cell_type": "code",
      "source": [
        "KLtr,KLte,Ytr,Yte = train_test_split(KL, y_np, test_size=.3, random_state=42)"
      ],
      "metadata": {
        "id": "KqZ209Yun19H"
      },
      "execution_count": null,
      "outputs": []
    },
    {
      "cell_type": "code",
      "source": [
        "base_learner = SVC(C=10000, kernel = 'rbf') #\"hard\"-margin svm\n",
        "\n",
        "def objective_MKL(trial):\n",
        "\n",
        "    lam = trial.suggest_float('lamda', 0, 1)\n",
        "\n",
        "    clf = EasyMKL(learner=base_learner, lam=lam)\n",
        "\n",
        "    return np.array(cross_val_score(KLtr, Ytr, clf, n_folds=4, scoring='accuracy')).mean()\n",
        "\n",
        "study_MKL = optuna.create_study(direction='maximize')\n",
        "study_MKL.optimize(objective_MKL, n_trials=100)\n",
        "\n",
        "trial_MKL = study_MKL.best_trial\n",
        "\n",
        "print('MKL Accuracy: {}'.format(trial_MKL.value))\n",
        "print(\"Best hyperparameters: {}\".format(trial_MKL.params))"
      ],
      "metadata": {
        "colab": {
          "base_uri": "https://localhost:8080/"
        },
        "id": "JZvG-GYeoUXR",
        "outputId": "5134cef8-78b0-4d5a-c199-4d82a4ea6837"
      },
      "execution_count": null,
      "outputs": [
        {
          "output_type": "stream",
          "name": "stderr",
          "text": [
            "[I 2023-11-23 09:37:34,643] A new study created in memory with name: no-name-a953f27e-8536-4d2e-a835-b7dfe89b1b16\n",
            "[I 2023-11-23 09:37:34,681] Trial 0 finished with value: 0.8583333333333334 and parameters: {'lamda': 0.5353011509368227}. Best is trial 0 with value: 0.8583333333333334.\n",
            "[I 2023-11-23 09:37:34,715] Trial 1 finished with value: 0.875 and parameters: {'lamda': 0.8065495325667017}. Best is trial 1 with value: 0.875.\n",
            "[I 2023-11-23 09:37:34,749] Trial 2 finished with value: 0.8166666666666667 and parameters: {'lamda': 0.09175939259403909}. Best is trial 1 with value: 0.875.\n",
            "[I 2023-11-23 09:37:34,784] Trial 3 finished with value: 0.825 and parameters: {'lamda': 0.11653509021408248}. Best is trial 1 with value: 0.875.\n",
            "[I 2023-11-23 09:37:34,818] Trial 4 finished with value: 0.9083333333333334 and parameters: {'lamda': 0.032140986881692535}. Best is trial 4 with value: 0.9083333333333334.\n",
            "[I 2023-11-23 09:37:34,851] Trial 5 finished with value: 0.8166666666666667 and parameters: {'lamda': 0.19278705191715073}. Best is trial 4 with value: 0.9083333333333334.\n",
            "[I 2023-11-23 09:37:34,885] Trial 6 finished with value: 0.9583333333333334 and parameters: {'lamda': 0.20015246198592995}. Best is trial 6 with value: 0.9583333333333334.\n",
            "[I 2023-11-23 09:37:34,921] Trial 7 finished with value: 0.8666666666666667 and parameters: {'lamda': 0.43413418189381225}. Best is trial 6 with value: 0.9583333333333334.\n",
            "[I 2023-11-23 09:37:34,954] Trial 8 finished with value: 0.875 and parameters: {'lamda': 0.2568428036630245}. Best is trial 6 with value: 0.9583333333333334.\n",
            "[I 2023-11-23 09:37:34,989] Trial 9 finished with value: 0.8666666666666667 and parameters: {'lamda': 0.619382173973333}. Best is trial 6 with value: 0.9583333333333334.\n",
            "[I 2023-11-23 09:37:35,033] Trial 10 finished with value: 0.825 and parameters: {'lamda': 0.9844299243328878}. Best is trial 6 with value: 0.9583333333333334.\n",
            "[I 2023-11-23 09:37:35,118] Trial 11 finished with value: 0.8999999999999999 and parameters: {'lamda': 0.004747753356434278}. Best is trial 6 with value: 0.9583333333333334.\n",
            "[I 2023-11-23 09:37:35,159] Trial 12 finished with value: 0.8083333333333333 and parameters: {'lamda': 0.31143485971876617}. Best is trial 6 with value: 0.9583333333333334.\n",
            "[I 2023-11-23 09:37:35,246] Trial 13 finished with value: 0.8583333333333334 and parameters: {'lamda': 0.007152843404684556}. Best is trial 6 with value: 0.9583333333333334.\n",
            "[I 2023-11-23 09:37:35,305] Trial 14 finished with value: 0.8166666666666667 and parameters: {'lamda': 0.32577115909219845}. Best is trial 6 with value: 0.9583333333333334.\n",
            "[I 2023-11-23 09:37:35,384] Trial 15 finished with value: 0.8166666666666667 and parameters: {'lamda': 0.1722072447809069}. Best is trial 6 with value: 0.9583333333333334.\n",
            "[I 2023-11-23 09:37:35,427] Trial 16 finished with value: 0.875 and parameters: {'lamda': 0.34682380976513677}. Best is trial 6 with value: 0.9583333333333334.\n",
            "[I 2023-11-23 09:37:35,474] Trial 17 finished with value: 0.8666666666666667 and parameters: {'lamda': 0.20482461118101614}. Best is trial 6 with value: 0.9583333333333334.\n",
            "[I 2023-11-23 09:37:35,514] Trial 18 finished with value: 0.8666666666666667 and parameters: {'lamda': 0.10082131396279584}. Best is trial 6 with value: 0.9583333333333334.\n",
            "[I 2023-11-23 09:37:35,558] Trial 19 finished with value: 0.8083333333333333 and parameters: {'lamda': 0.41798505660147073}. Best is trial 6 with value: 0.9583333333333334.\n",
            "[I 2023-11-23 09:37:35,642] Trial 20 finished with value: 0.8583333333333334 and parameters: {'lamda': 0.00799761836822839}. Best is trial 6 with value: 0.9583333333333334.\n",
            "[I 2023-11-23 09:37:35,721] Trial 21 finished with value: 0.9083333333333334 and parameters: {'lamda': 0.05796508319461881}. Best is trial 6 with value: 0.9583333333333334.\n",
            "[I 2023-11-23 09:37:35,787] Trial 22 finished with value: 0.875 and parameters: {'lamda': 0.1117785084205684}. Best is trial 6 with value: 0.9583333333333334.\n",
            "[I 2023-11-23 09:37:35,830] Trial 23 finished with value: 0.8583333333333334 and parameters: {'lamda': 0.25483259739211017}. Best is trial 6 with value: 0.9583333333333334.\n",
            "[I 2023-11-23 09:37:35,875] Trial 24 finished with value: 0.9083333333333334 and parameters: {'lamda': 0.08241030298434521}. Best is trial 6 with value: 0.9583333333333334.\n",
            "[I 2023-11-23 09:37:35,918] Trial 25 finished with value: 0.9083333333333334 and parameters: {'lamda': 0.19370968207243577}. Best is trial 6 with value: 0.9583333333333334.\n",
            "[I 2023-11-23 09:37:35,961] Trial 26 finished with value: 0.8666666666666667 and parameters: {'lamda': 0.04349345806988923}. Best is trial 6 with value: 0.9583333333333334.\n",
            "[I 2023-11-23 09:37:36,008] Trial 27 finished with value: 0.8666666666666667 and parameters: {'lamda': 0.1572626629376931}. Best is trial 6 with value: 0.9583333333333334.\n",
            "[I 2023-11-23 09:37:36,052] Trial 28 finished with value: 0.8666666666666667 and parameters: {'lamda': 0.04770724003664557}. Best is trial 6 with value: 0.9583333333333334.\n",
            "[I 2023-11-23 09:37:36,097] Trial 29 finished with value: 0.9083333333333334 and parameters: {'lamda': 0.13733769077946711}. Best is trial 6 with value: 0.9583333333333334.\n",
            "[I 2023-11-23 09:37:36,140] Trial 30 finished with value: 0.8166666666666668 and parameters: {'lamda': 0.05410751788470553}. Best is trial 6 with value: 0.9583333333333334.\n",
            "[I 2023-11-23 09:37:36,184] Trial 31 finished with value: 0.8583333333333334 and parameters: {'lamda': 0.08727044633918524}. Best is trial 6 with value: 0.9583333333333334.\n",
            "[I 2023-11-23 09:37:36,228] Trial 32 finished with value: 0.95 and parameters: {'lamda': 0.14628833148310857}. Best is trial 6 with value: 0.9583333333333334.\n",
            "[I 2023-11-23 09:37:36,280] Trial 33 finished with value: 0.8666666666666667 and parameters: {'lamda': 0.23843575212499996}. Best is trial 6 with value: 0.9583333333333334.\n",
            "[I 2023-11-23 09:37:36,341] Trial 34 finished with value: 0.8666666666666667 and parameters: {'lamda': 0.16330237086376104}. Best is trial 6 with value: 0.9583333333333334.\n",
            "[I 2023-11-23 09:37:36,411] Trial 35 finished with value: 0.8666666666666667 and parameters: {'lamda': 0.13425954977788823}. Best is trial 6 with value: 0.9583333333333334.\n",
            "[I 2023-11-23 09:37:36,455] Trial 36 finished with value: 0.7666666666666666 and parameters: {'lamda': 0.06253477364630763}. Best is trial 6 with value: 0.9583333333333334.\n",
            "[I 2023-11-23 09:37:36,497] Trial 37 finished with value: 0.8166666666666668 and parameters: {'lamda': 0.22729933934088398}. Best is trial 6 with value: 0.9583333333333334.\n",
            "[I 2023-11-23 09:37:36,541] Trial 38 finished with value: 0.8583333333333334 and parameters: {'lamda': 0.27789001706681093}. Best is trial 6 with value: 0.9583333333333334.\n",
            "[I 2023-11-23 09:37:36,588] Trial 39 finished with value: 0.8166666666666667 and parameters: {'lamda': 0.13945084599345836}. Best is trial 6 with value: 0.9583333333333334.\n",
            "[I 2023-11-23 09:37:36,641] Trial 40 finished with value: 0.8666666666666667 and parameters: {'lamda': 0.21190510326967932}. Best is trial 6 with value: 0.9583333333333334.\n",
            "[I 2023-11-23 09:37:36,681] Trial 41 finished with value: 0.8666666666666667 and parameters: {'lamda': 0.08630713991959864}. Best is trial 6 with value: 0.9583333333333334.\n",
            "[I 2023-11-23 09:37:36,708] Trial 42 finished with value: 0.8583333333333334 and parameters: {'lamda': 0.10138333235257968}. Best is trial 6 with value: 0.9583333333333334.\n",
            "[I 2023-11-23 09:37:36,745] Trial 43 finished with value: 0.7666666666666666 and parameters: {'lamda': 0.006227941815196959}. Best is trial 6 with value: 0.9583333333333334.\n",
            "[I 2023-11-23 09:37:36,782] Trial 44 finished with value: 0.9083333333333334 and parameters: {'lamda': 0.05808456821336186}. Best is trial 6 with value: 0.9583333333333334.\n",
            "[I 2023-11-23 09:37:36,820] Trial 45 finished with value: 0.8666666666666667 and parameters: {'lamda': 0.174546782252246}. Best is trial 6 with value: 0.9583333333333334.\n",
            "[I 2023-11-23 09:37:36,858] Trial 46 finished with value: 0.9083333333333334 and parameters: {'lamda': 0.1286552509457602}. Best is trial 6 with value: 0.9583333333333334.\n",
            "[I 2023-11-23 09:37:36,887] Trial 47 finished with value: 0.9166666666666667 and parameters: {'lamda': 0.2736796267788689}. Best is trial 6 with value: 0.9583333333333334.\n",
            "[I 2023-11-23 09:37:36,914] Trial 48 finished with value: 0.85 and parameters: {'lamda': 0.29988633609573356}. Best is trial 6 with value: 0.9583333333333334.\n",
            "[I 2023-11-23 09:37:36,939] Trial 49 finished with value: 0.8583333333333334 and parameters: {'lamda': 0.2546079570354616}. Best is trial 6 with value: 0.9583333333333334.\n",
            "[I 2023-11-23 09:37:36,969] Trial 50 finished with value: 0.8666666666666667 and parameters: {'lamda': 0.19501859561627577}. Best is trial 6 with value: 0.9583333333333334.\n",
            "[I 2023-11-23 09:37:36,996] Trial 51 finished with value: 0.8666666666666667 and parameters: {'lamda': 0.08358524515349092}. Best is trial 6 with value: 0.9583333333333334.\n",
            "[I 2023-11-23 09:37:37,024] Trial 52 finished with value: 0.9166666666666667 and parameters: {'lamda': 0.11941699186875959}. Best is trial 6 with value: 0.9583333333333334.\n",
            "[I 2023-11-23 09:37:37,050] Trial 53 finished with value: 0.8333333333333333 and parameters: {'lamda': 0.3618050018735239}. Best is trial 6 with value: 0.9583333333333334.\n",
            "[I 2023-11-23 09:37:37,080] Trial 54 finished with value: 0.8666666666666667 and parameters: {'lamda': 0.17677514535992317}. Best is trial 6 with value: 0.9583333333333334.\n",
            "[I 2023-11-23 09:37:37,105] Trial 55 finished with value: 0.8666666666666667 and parameters: {'lamda': 0.22569784374013646}. Best is trial 6 with value: 0.9583333333333334.\n",
            "[I 2023-11-23 09:37:37,130] Trial 56 finished with value: 0.9083333333333334 and parameters: {'lamda': 0.0332472755635832}. Best is trial 6 with value: 0.9583333333333334.\n",
            "[I 2023-11-23 09:37:37,159] Trial 57 finished with value: 0.8666666666666667 and parameters: {'lamda': 0.11833597348266356}. Best is trial 6 with value: 0.9583333333333334.\n",
            "[I 2023-11-23 09:37:37,184] Trial 58 finished with value: 0.8666666666666667 and parameters: {'lamda': 0.2689290462209909}. Best is trial 6 with value: 0.9583333333333334.\n",
            "[I 2023-11-23 09:37:37,210] Trial 59 finished with value: 0.825 and parameters: {'lamda': 0.15940816825273837}. Best is trial 6 with value: 0.9583333333333334.\n",
            "[I 2023-11-23 09:37:37,235] Trial 60 finished with value: 0.8583333333333334 and parameters: {'lamda': 0.5199258265872241}. Best is trial 6 with value: 0.9583333333333334.\n",
            "[I 2023-11-23 09:37:37,261] Trial 61 finished with value: 0.8583333333333334 and parameters: {'lamda': 0.029410609177679015}. Best is trial 6 with value: 0.9583333333333334.\n",
            "[I 2023-11-23 09:37:37,287] Trial 62 finished with value: 0.875 and parameters: {'lamda': 0.1088413350493925}. Best is trial 6 with value: 0.9583333333333334.\n",
            "[I 2023-11-23 09:37:37,313] Trial 63 finished with value: 0.8666666666666667 and parameters: {'lamda': 0.08111567776378661}. Best is trial 6 with value: 0.9583333333333334.\n",
            "[I 2023-11-23 09:37:37,350] Trial 64 finished with value: 0.9083333333333334 and parameters: {'lamda': 0.009602757446573018}. Best is trial 6 with value: 0.9583333333333334.\n",
            "[I 2023-11-23 09:37:37,390] Trial 65 finished with value: 0.825 and parameters: {'lamda': 0.07079270104557091}. Best is trial 6 with value: 0.9583333333333334.\n",
            "[I 2023-11-23 09:37:37,446] Trial 66 finished with value: 0.825 and parameters: {'lamda': 0.19968966889837064}. Best is trial 6 with value: 0.9583333333333334.\n",
            "[I 2023-11-23 09:37:37,480] Trial 67 finished with value: 0.875 and parameters: {'lamda': 0.14421758324497563}. Best is trial 6 with value: 0.9583333333333334.\n",
            "[I 2023-11-23 09:37:37,508] Trial 68 finished with value: 0.8999999999999999 and parameters: {'lamda': 0.04457814960397875}. Best is trial 6 with value: 0.9583333333333334.\n",
            "[I 2023-11-23 09:37:37,533] Trial 69 finished with value: 0.8166666666666667 and parameters: {'lamda': 0.11646842894259665}. Best is trial 6 with value: 0.9583333333333334.\n",
            "[I 2023-11-23 09:37:37,560] Trial 70 finished with value: 0.8666666666666667 and parameters: {'lamda': 0.17160651452324294}. Best is trial 6 with value: 0.9583333333333334.\n",
            "[I 2023-11-23 09:37:37,585] Trial 71 finished with value: 0.9083333333333334 and parameters: {'lamda': 0.18742820062919724}. Best is trial 6 with value: 0.9583333333333334.\n",
            "[I 2023-11-23 09:37:37,611] Trial 72 finished with value: 0.9083333333333334 and parameters: {'lamda': 0.21315702104554202}. Best is trial 6 with value: 0.9583333333333334.\n",
            "[I 2023-11-23 09:37:37,636] Trial 73 finished with value: 0.85 and parameters: {'lamda': 0.14849498488320356}. Best is trial 6 with value: 0.9583333333333334.\n",
            "[I 2023-11-23 09:37:37,661] Trial 74 finished with value: 0.8583333333333334 and parameters: {'lamda': 0.09612503709018407}. Best is trial 6 with value: 0.9583333333333334.\n",
            "[I 2023-11-23 09:37:37,697] Trial 75 finished with value: 0.8583333333333334 and parameters: {'lamda': 0.0795475934028095}. Best is trial 6 with value: 0.9583333333333334.\n",
            "[I 2023-11-23 09:37:37,734] Trial 76 finished with value: 0.8083333333333335 and parameters: {'lamda': 0.23866217542037696}. Best is trial 6 with value: 0.9583333333333334.\n",
            "[I 2023-11-23 09:37:37,774] Trial 77 finished with value: 0.8166666666666667 and parameters: {'lamda': 0.03079807399542034}. Best is trial 6 with value: 0.9583333333333334.\n",
            "[I 2023-11-23 09:37:37,814] Trial 78 finished with value: 0.825 and parameters: {'lamda': 0.14141032351796307}. Best is trial 6 with value: 0.9583333333333334.\n",
            "[I 2023-11-23 09:37:37,852] Trial 79 finished with value: 0.9083333333333334 and parameters: {'lamda': 0.11744633355741721}. Best is trial 6 with value: 0.9583333333333334.\n",
            "[I 2023-11-23 09:37:37,888] Trial 80 finished with value: 0.8166666666666667 and parameters: {'lamda': 0.06049111866979497}. Best is trial 6 with value: 0.9583333333333334.\n",
            "[I 2023-11-23 09:37:37,925] Trial 81 finished with value: 0.7833333333333332 and parameters: {'lamda': 0.1801120713764684}. Best is trial 6 with value: 0.9583333333333334.\n",
            "[I 2023-11-23 09:37:37,964] Trial 82 finished with value: 0.8583333333333334 and parameters: {'lamda': 0.13577247200466921}. Best is trial 6 with value: 0.9583333333333334.\n",
            "[I 2023-11-23 09:37:38,004] Trial 83 finished with value: 0.8500000000000001 and parameters: {'lamda': 0.10357507971329367}. Best is trial 6 with value: 0.9583333333333334.\n",
            "[I 2023-11-23 09:37:38,041] Trial 84 finished with value: 0.9083333333333334 and parameters: {'lamda': 0.20596400636607973}. Best is trial 6 with value: 0.9583333333333334.\n",
            "[I 2023-11-23 09:37:38,079] Trial 85 finished with value: 0.8666666666666667 and parameters: {'lamda': 0.153652870954075}. Best is trial 6 with value: 0.9583333333333334.\n",
            "[I 2023-11-23 09:37:38,120] Trial 86 finished with value: 0.9083333333333334 and parameters: {'lamda': 0.07096978224185493}. Best is trial 6 with value: 0.9583333333333334.\n",
            "[I 2023-11-23 09:37:38,162] Trial 87 finished with value: 0.8666666666666667 and parameters: {'lamda': 0.1279781740463815}. Best is trial 6 with value: 0.9583333333333334.\n",
            "[I 2023-11-23 09:37:38,201] Trial 88 finished with value: 0.8500000000000001 and parameters: {'lamda': 0.23778904789956096}. Best is trial 6 with value: 0.9583333333333334.\n",
            "[I 2023-11-23 09:37:38,241] Trial 89 finished with value: 0.9083333333333334 and parameters: {'lamda': 0.2840852748338982}. Best is trial 6 with value: 0.9583333333333334.\n",
            "[I 2023-11-23 09:37:38,282] Trial 90 finished with value: 0.9166666666666667 and parameters: {'lamda': 0.1668698773085422}. Best is trial 6 with value: 0.9583333333333334.\n",
            "[I 2023-11-23 09:37:38,321] Trial 91 finished with value: 0.9083333333333334 and parameters: {'lamda': 0.09062786615229299}. Best is trial 6 with value: 0.9583333333333334.\n",
            "[I 2023-11-23 09:37:38,362] Trial 92 finished with value: 0.9083333333333334 and parameters: {'lamda': 0.16342065490649585}. Best is trial 6 with value: 0.9583333333333334.\n",
            "[I 2023-11-23 09:37:38,399] Trial 93 finished with value: 0.8666666666666667 and parameters: {'lamda': 0.1950841861850556}. Best is trial 6 with value: 0.9583333333333334.\n",
            "[I 2023-11-23 09:37:38,437] Trial 94 finished with value: 0.8583333333333334 and parameters: {'lamda': 0.028294243683831002}. Best is trial 6 with value: 0.9583333333333334.\n",
            "[I 2023-11-23 09:37:38,485] Trial 95 finished with value: 0.8666666666666667 and parameters: {'lamda': 0.12174572146434279}. Best is trial 6 with value: 0.9583333333333334.\n",
            "[I 2023-11-23 09:37:38,548] Trial 96 finished with value: 0.8166666666666668 and parameters: {'lamda': 0.0010495596444889121}. Best is trial 6 with value: 0.9583333333333334.\n",
            "[I 2023-11-23 09:37:38,583] Trial 97 finished with value: 0.8666666666666667 and parameters: {'lamda': 0.05545632246222425}. Best is trial 6 with value: 0.9583333333333334.\n",
            "[I 2023-11-23 09:37:38,618] Trial 98 finished with value: 0.9083333333333334 and parameters: {'lamda': 0.21757366320899785}. Best is trial 6 with value: 0.9583333333333334.\n",
            "[I 2023-11-23 09:37:38,660] Trial 99 finished with value: 0.8583333333333334 and parameters: {'lamda': 0.25484220031415966}. Best is trial 6 with value: 0.9583333333333334.\n"
          ]
        },
        {
          "output_type": "stream",
          "name": "stdout",
          "text": [
            "MKL Accuracy: 0.9583333333333334\n",
            "Best hyperparameters: {'lamda': 0.20015246198592995}\n"
          ]
        }
      ]
    },
    {
      "cell_type": "code",
      "source": [
        "trial_MKL.params['lamda']"
      ],
      "metadata": {
        "colab": {
          "base_uri": "https://localhost:8080/"
        },
        "id": "56Dfn-_do99V",
        "outputId": "41b99a55-66d2-4347-f5d1-22a95751c154"
      },
      "execution_count": null,
      "outputs": [
        {
          "output_type": "execute_result",
          "data": {
            "text/plain": [
              "0.20015246198592995"
            ]
          },
          "metadata": {},
          "execution_count": 63
        }
      ]
    },
    {
      "cell_type": "markdown",
      "source": [
        "# Кросс-валидация"
      ],
      "metadata": {
        "id": "p6c9jGUmpoEr"
      }
    },
    {
      "cell_type": "code",
      "source": [
        "base_learner = SVC(C=10000, kernel = 'rbf')\n",
        "model = EasyMKL(learner=base_learner, lam=trial_MKL.params['lamda'])"
      ],
      "metadata": {
        "id": "KL-yuBpeZx9-"
      },
      "execution_count": null,
      "outputs": []
    },
    {
      "cell_type": "code",
      "source": [
        "folds_mean, tests_mean, folds_std, tests_std, df_for_viz = mkl_custom_cross_val_score(KL, y_np, model, n_folds=4)"
      ],
      "metadata": {
        "id": "q7Qm7l92pt2Z",
        "colab": {
          "base_uri": "https://localhost:8080/"
        },
        "outputId": "371a8ee4-3e60-4624-ee39-18813042a0a5"
      },
      "execution_count": null,
      "outputs": [
        {
          "output_type": "stream",
          "name": "stderr",
          "text": [
            "100%|██████████| 100/100 [00:02<00:00, 33.74it/s]\n"
          ]
        }
      ]
    },
    {
      "cell_type": "code",
      "source": [
        "print(f'Folds mean = {np.mean(folds_mean)}, Folds std = {np.mean(folds_std)}')\n",
        "print(f'Tests mean = {np.mean(tests_mean)}, Tests std = {np.mean(tests_std)}')\n",
        "\n",
        "viz_cv(df_for_viz, title = 'MKL')"
      ],
      "metadata": {
        "colab": {
          "base_uri": "https://localhost:8080/",
          "height": 476
        },
        "id": "MT8SJX1kaExH",
        "outputId": "61397710-906c-4f03-9a8e-5ab74ee0be59"
      },
      "execution_count": null,
      "outputs": [
        {
          "output_type": "stream",
          "name": "stdout",
          "text": [
            "Folds mean = 0.8665021645021641, Folds std = 0.15127857966732158\n",
            "Tests mean = 0.8665465433259545, Tests std = 0.09615442521075934\n"
          ]
        },
        {
          "output_type": "display_data",
          "data": {
            "text/plain": [
              "<Figure size 1600x600 with 1 Axes>"
            ],
            "image/png": "[encoded data removed]"
          },
          "metadata": {}
        }
      ]
    },
    {
      "cell_type": "markdown",
      "source": [
        "# Оценка на тесте"
      ],
      "metadata": {
        "id": "_h1U1DPPp00Z"
      }
    },
    {
      "cell_type": "code",
      "source": [
        "res = mkl_test_on_diff_seeds(model, KL, y_np)"
      ],
      "metadata": {
        "colab": {
          "base_uri": "https://localhost:8080/"
        },
        "id": "kXapvn9XjC8O",
        "outputId": "76df43e8-32b0-442e-8478-242b05f813f2"
      },
      "execution_count": null,
      "outputs": [
        {
          "output_type": "stream",
          "name": "stderr",
          "text": [
            " 25%|██▌       | 25/100 [00:00<00:00, 121.76it/s]/usr/local/lib/python3.10/dist-packages/sklearn/metrics/_classification.py:1344: UndefinedMetricWarning: Precision and F-score are ill-defined and being set to 0.0 in labels with no predicted samples. Use `zero_division` parameter to control this behavior.\n",
            "  _warn_prf(average, modifier, msg_start, len(result))\n",
            "100%|██████████| 100/100 [00:00<00:00, 125.39it/s]\n"
          ]
        }
      ]
    },
    {
      "cell_type": "code",
      "source": [
        "res"
      ],
      "metadata": {
        "colab": {
          "base_uri": "https://localhost:8080/",
          "height": 143
        },
        "id": "RANoWoX2jV9N",
        "outputId": "420a8b9a-2fc3-446c-b25f-6f3b8000842d"
      },
      "execution_count": null,
      "outputs": [
        {
          "output_type": "execute_result",
          "data": {
            "text/plain": [
              "   classes  precision_mean  recall_mean   f1_mean\n",
              "0        0        0.807786     0.812857  0.785648\n",
              "1        1        0.885373     0.883230  0.875670\n",
              "2  average        0.846579     0.848044  0.830659"
            ],
            "text/html": [
              "\n",
              "  <div id=\"df-e80ef46b-a6c3-441d-a596-dc508fdd25fb\" class=\"colab-df-container\">\n",
              "    <div>\n",
              "<style scoped>\n",
              "    .dataframe tbody tr th:only-of-type {\n",
              "        vertical-align: middle;\n",
              "    }\n",
              "\n",
              "    .dataframe tbody tr th {\n",
              "        vertical-align: top;\n",
              "    }\n",
              "\n",
              "    .dataframe thead th {\n",
              "        text-align: right;\n",
              "    }\n",
              "</style>\n",
              "<table border=\"1\" class=\"dataframe\">\n",
              "  <thead>\n",
              "    <tr style=\"text-align: right;\">\n",
              "      <th></th>\n",
              "      <th>classes</th>\n",
              "      <th>precision_mean</th>\n",
              "      <th>recall_mean</th>\n",
              "      <th>f1_mean</th>\n",
              "    </tr>\n",
              "  </thead>\n",
              "  <tbody>\n",
              "    <tr>\n",
              "      <th>0</th>\n",
              "      <td>0</td>\n",
              "      <td>0.807786</td>\n",
              "      <td>0.812857</td>\n",
              "      <td>0.785648</td>\n",
              "    </tr>\n",
              "    <tr>\n",
              "      <th>1</th>\n",
              "      <td>1</td>\n",
              "      <td>0.885373</td>\n",
              "      <td>0.883230</td>\n",
              "      <td>0.875670</td>\n",
              "    </tr>\n",
              "    <tr>\n",
              "      <th>2</th>\n",
              "      <td>average</td>\n",
              "      <td>0.846579</td>\n",
              "      <td>0.848044</td>\n",
              "      <td>0.830659</td>\n",
              "    </tr>\n",
              "  </tbody>\n",
              "</table>\n",
              "</div>\n",
              "    <div class=\"colab-df-buttons\">\n",
              "\n",
              "  <div class=\"colab-df-container\">\n",
              "    <button class=\"colab-df-convert\" onclick=\"convertToInteractive('df-e80ef46b-a6c3-441d-a596-dc508fdd25fb')\"\n",
              "            title=\"Convert this dataframe to an interactive table.\"\n",
              "            style=\"display:none;\">\n",
              "\n",
              "  <svg xmlns=\"http://www.w3.org/2000/svg\" height=\"24px\" viewBox=\"0 -960 960 960\">\n",
              "    <path d=\"M120-120v-720h720v720H120Zm60-500h600v-160H180v160Zm220 220h160v-160H400v160Zm0 220h160v-160H400v160ZM180-400h160v-160H180v160Zm440 0h160v-160H620v160ZM180-180h160v-160H180v160Zm440 0h160v-160H620v160Z\"/>\n",
              "  </svg>\n",
              "    </button>\n",
              "\n",
              "  <style>\n",
              "    .colab-df-container {\n",
              "      display:flex;\n",
              "      gap: 12px;\n",
              "    }\n",
              "\n",
              "    .colab-df-convert {\n",
              "      background-color: #E8F0FE;\n",
              "      border: none;\n",
              "      border-radius: 50%;\n",
              "      cursor: pointer;\n",
              "      display: none;\n",
              "      fill: #1967D2;\n",
              "      height: 32px;\n",
              "      padding: 0 0 0 0;\n",
              "      width: 32px;\n",
              "    }\n",
              "\n",
              "    .colab-df-convert:hover {\n",
              "      background-color: #E2EBFA;\n",
              "      box-shadow: 0px 1px 2px rgba(60, 64, 67, 0.3), 0px 1px 3px 1px rgba(60, 64, 67, 0.15);\n",
              "      fill: #174EA6;\n",
              "    }\n",
              "\n",
              "    .colab-df-buttons div {\n",
              "      margin-bottom: 4px;\n",
              "    }\n",
              "\n",
              "    [theme=dark] .colab-df-convert {\n",
              "      background-color: #3B4455;\n",
              "      fill: #D2E3FC;\n",
              "    }\n",
              "\n",
              "    [theme=dark] .colab-df-convert:hover {\n",
              "      background-color: #434B5C;\n",
              "      box-shadow: 0px 1px 3px 1px rgba(0, 0, 0, 0.15);\n",
              "      filter: drop-shadow(0px 1px 2px rgba(0, 0, 0, 0.3));\n",
              "      fill: #FFFFFF;\n",
              "    }\n",
              "  </style>\n",
              "\n",
              "    <script>\n",
              "      const buttonEl =\n",
              "        document.querySelector('#df-e80ef46b-a6c3-441d-a596-dc508fdd25fb button.colab-df-convert');\n",
              "      buttonEl.style.display =\n",
              "        google.colab.kernel.accessAllowed ? 'block' : 'none';\n",
              "\n",
              "      async function convertToInteractive(key) {\n",
              "        const element = document.querySelector('#df-e80ef46b-a6c3-441d-a596-dc508fdd25fb');\n",
              "        const dataTable =\n",
              "          await google.colab.kernel.invokeFunction('convertToInteractive',\n",
              "                                                    [key], {});\n",
              "        if (!dataTable) return;\n",
              "\n",
              "        const docLinkHtml = 'Like what you see? Visit the ' +\n",
              "          '<a target=\"_blank\" href=https://colab.research.google.com/notebooks/data_table.ipynb>data table notebook</a>'\n",
              "          + ' to learn more about interactive tables.';\n",
              "        element.innerHTML = '';\n",
              "        dataTable['output_type'] = 'display_data';\n",
              "        await google.colab.output.renderOutput(dataTable, element);\n",
              "        const docLink = document.createElement('div');\n",
              "        docLink.innerHTML = docLinkHtml;\n",
              "        element.appendChild(docLink);\n",
              "      }\n",
              "    </script>\n",
              "  </div>\n",
              "\n",
              "\n",
              "<div id=\"df-de46bd5f-3e11-4056-b373-f090e50f8a66\">\n",
              "  <button class=\"colab-df-quickchart\" onclick=\"quickchart('df-de46bd5f-3e11-4056-b373-f090e50f8a66')\"\n",
              "            title=\"Suggest charts\"\n",
              "            style=\"display:none;\">\n",
              "\n",
              "<svg xmlns=\"http://www.w3.org/2000/svg\" height=\"24px\"viewBox=\"0 0 24 24\"\n",
              "     width=\"24px\">\n",
              "    <g>\n",
              "        <path d=\"M19 3H5c-1.1 0-2 .9-2 2v14c0 1.1.9 2 2 2h14c1.1 0 2-.9 2-2V5c0-1.1-.9-2-2-2zM9 17H7v-7h2v7zm4 0h-2V7h2v10zm4 0h-2v-4h2v4z\"/>\n",
              "    </g>\n",
              "</svg>\n",
              "  </button>\n",
              "\n",
              "<style>\n",
              "  .colab-df-quickchart {\n",
              "      --bg-color: #E8F0FE;\n",
              "      --fill-color: #1967D2;\n",
              "      --hover-bg-color: #E2EBFA;\n",
              "      --hover-fill-color: #174EA6;\n",
              "      --disabled-fill-color: #AAA;\n",
              "      --disabled-bg-color: #DDD;\n",
              "  }\n",
              "\n",
              "  [theme=dark] .colab-df-quickchart {\n",
              "      --bg-color: #3B4455;\n",
              "      --fill-color: #D2E3FC;\n",
              "      --hover-bg-color: #434B5C;\n",
              "      --hover-fill-color: #FFFFFF;\n",
              "      --disabled-bg-color: #3B4455;\n",
              "      --disabled-fill-color: #666;\n",
              "  }\n",
              "\n",
              "  .colab-df-quickchart {\n",
              "    background-color: var(--bg-color);\n",
              "    border: none;\n",
              "    border-radius: 50%;\n",
              "    cursor: pointer;\n",
              "    display: none;\n",
              "    fill: var(--fill-color);\n",
              "    height: 32px;\n",
              "    padding: 0;\n",
              "    width: 32px;\n",
              "  }\n",
              "\n",
              "  .colab-df-quickchart:hover {\n",
              "    background-color: var(--hover-bg-color);\n",
              "    box-shadow: 0 1px 2px rgba(60, 64, 67, 0.3), 0 1px 3px 1px rgba(60, 64, 67, 0.15);\n",
              "    fill: var(--button-hover-fill-color);\n",
              "  }\n",
              "\n",
              "  .colab-df-quickchart-complete:disabled,\n",
              "  .colab-df-quickchart-complete:disabled:hover {\n",
              "    background-color: var(--disabled-bg-color);\n",
              "    fill: var(--disabled-fill-color);\n",
              "    box-shadow: none;\n",
              "  }\n",
              "\n",
              "  .colab-df-spinner {\n",
              "    border: 2px solid var(--fill-color);\n",
              "    border-color: transparent;\n",
              "    border-bottom-color: var(--fill-color);\n",
              "    animation:\n",
              "      spin 1s steps(1) infinite;\n",
              "  }\n",
              "\n",
              "  @keyframes spin {\n",
              "    0% {\n",
              "      border-color: transparent;\n",
              "      border-bottom-color: var(--fill-color);\n",
              "      border-left-color: var(--fill-color);\n",
              "    }\n",
              "    20% {\n",
              "      border-color: transparent;\n",
              "      border-left-color: var(--fill-color);\n",
              "      border-top-color: var(--fill-color);\n",
              "    }\n",
              "    30% {\n",
              "      border-color: transparent;\n",
              "      border-left-color: var(--fill-color);\n",
              "      border-top-color: var(--fill-color);\n",
              "      border-right-color: var(--fill-color);\n",
              "    }\n",
              "    40% {\n",
              "      border-color: transparent;\n",
              "      border-right-color: var(--fill-color);\n",
              "      border-top-color: var(--fill-color);\n",
              "    }\n",
              "    60% {\n",
              "      border-color: transparent;\n",
              "      border-right-color: var(--fill-color);\n",
              "    }\n",
              "    80% {\n",
              "      border-color: transparent;\n",
              "      border-right-color: var(--fill-color);\n",
              "      border-bottom-color: var(--fill-color);\n",
              "    }\n",
              "    90% {\n",
              "      border-color: transparent;\n",
              "      border-bottom-color: var(--fill-color);\n",
              "    }\n",
              "  }\n",
              "</style>\n",
              "\n",
              "  <script>\n",
              "    async function quickchart(key) {\n",
              "      const quickchartButtonEl =\n",
              "        document.querySelector('#' + key + ' button');\n",
              "      quickchartButtonEl.disabled = true;  // To prevent multiple clicks.\n",
              "      quickchartButtonEl.classList.add('colab-df-spinner');\n",
              "      try {\n",
              "        const charts = await google.colab.kernel.invokeFunction(\n",
              "            'suggestCharts', [key], {});\n",
              "      } catch (error) {\n",
              "        console.error('Error during call to suggestCharts:', error);\n",
              "      }\n",
              "      quickchartButtonEl.classList.remove('colab-df-spinner');\n",
              "      quickchartButtonEl.classList.add('colab-df-quickchart-complete');\n",
              "    }\n",
              "    (() => {\n",
              "      let quickchartButtonEl =\n",
              "        document.querySelector('#df-de46bd5f-3e11-4056-b373-f090e50f8a66 button');\n",
              "      quickchartButtonEl.style.display =\n",
              "        google.colab.kernel.accessAllowed ? 'block' : 'none';\n",
              "    })();\n",
              "  </script>\n",
              "</div>\n",
              "    </div>\n",
              "  </div>\n"
            ]
          },
          "metadata": {},
          "execution_count": 68
        }
      ]
    },
    {
      "cell_type": "code",
      "source": [],
      "metadata": {
        "id": "yeN2qMqVg9iE"
      },
      "execution_count": null,
      "outputs": []
    }
  ]
}